{
 "metadata": {
  "language_info": {
   "codemirror_mode": {
    "name": "ipython",
    "version": 3
   },
   "file_extension": ".py",
   "mimetype": "text/x-python",
   "name": "python",
   "nbconvert_exporter": "python",
   "pygments_lexer": "ipython3",
   "version": "3.8.5"
  },
  "orig_nbformat": 2,
  "kernelspec": {
   "name": "python36864bit8eafe73eb4ce4c62a1ab4e1e8f10c9e6",
   "display_name": "Python 3.8.5 64-bit"
  },
  "metadata": {
   "interpreter": {
    "hash": "31f2aee4e71d21fbe5cf8b01ff0e069b9275f58929596ceb00d14d90e3e16cd6"
   }
  }
 },
 "nbformat": 4,
 "nbformat_minor": 2,
 "cells": [
  {
   "source": [
    "## Translation of Subtitles using the Google Translation API and the PyDictionary"
   ],
   "cell_type": "markdown",
   "metadata": {}
  },
  {
   "source": [
    "### First, type the name or part of name of the movie or serie that you want to Translate to Portuguese\n",
    "### Primeiro, digite o nom ou parte do nome do filme ou serie que você quer traduzir para o Português"
   ],
   "cell_type": "markdown",
   "metadata": {}
  },
  {
   "cell_type": "code",
   "execution_count": 14,
   "metadata": {},
   "outputs": [
    {
     "output_type": "stream",
     "name": "stdout",
     "text": [
      "Looking for the Movie/Serie with the name or Words: Pursuit...\n"
     ]
    }
   ],
   "source": [
    "#@title Type the name of your movie or serie / Digite o nome do seu  \n",
    "\n",
    "subtitle = '' #@param {type:\"string\"}\n",
    "\n",
    "movieName = input(\"Name of the Movie/ Nome do Filme\")\n",
    "\n",
    "subtitle = subtitle if subtitle else movieName\n",
    "\n",
    "print(\"Looking for the Movie/Serie with the name or Words: {}...\".format(subtitle))\n"
   ]
  },
  {
   "cell_type": "code",
   "execution_count": 15,
   "metadata": {},
   "outputs": [
    {
     "output_type": "stream",
     "name": "stdout",
     "text": [
      "(0): The Pursuit of Happyness (2006)\n",
      "(1): Hot Pursuit (2015)\n",
      "(2): The Pursuit of Happiness /  / Ai De Sheng Chun Zhi Dao (2013)\n",
      "(3): Pursuit to Algiers (1945)\n",
      "(4): Hot Pursuit (1987)\n",
      "(5): Twist of Fate (Pursuit) (1989)\n",
      "(6): The Pursuit of Happiness (1971)\n",
      "(7): Victoria in Dover AKA The Pursuit and Loves of Queen Victoria (Mdchenjahre einer Knigin) (1954)\n",
      "(8): Amon Amarth - Pursuit Of Vikings (2004)\n",
      "(9): In Pursuit of Silence (2015)\n",
      "(10): Deadly Pursuit (2015)\n",
      "(11): ...And the Pursuit of Happiness (1986)\n",
      "\n",
      "Loading Subtitles from: https://subscene.com/subtitles/the-pursuit-of-happyness/English\n",
      "['https://subscene.com/subtitles/the-pursuit-of-happyness/english/2452750']\n",
      "\n",
      "Downloading Subtitle: https://subscene.com/subtitles/the-pursuit-of-happyness/english/2452750\n",
      "Subtitle (The pursuit of happyness_english 2452750.zip) - Downloaded\n",
      "List of files zipped: ['The.Pursuit.of.Happyness.2006.WEBRip.Netflix.srt']\n"
     ]
    }
   ],
   "source": [
    "#Working with subgrab to get subtitles\n",
    "from subgrab.subgrab.providers import subscene\n",
    "from subgrab.subgrab.utils import directory\n",
    "\n",
    "filelist = []\n",
    "sub_link = subscene.sel_title(subtitle.replace(\" \", \".\"))\n",
    "#The link with subtitle is alocate at the variable sub_link\n",
    "if sub_link:\n",
    "    print(\"\\nLoading Subtitles from: {}\".format(sub_link))\n",
    "    sub_title_link = subscene.sel_sub(sub_link)\n",
    "    print(sub_title_link)\n",
    "    for sub in list(sub_title_link):\n",
    "        print(\"\\nDownloading Subtitle: {}\".format(sub))\n",
    "        filelist = subscene.dl_sub(sub)\n",
    "\n",
    "os.rename(filelist[0], \"subtitles/{}\".format(filelist[0]))\n",
    "\n",
    "subtitle_file = filelist[0]"
   ]
  },
  {
   "source": [
    "## Read the subtitle and load the sentences in a dictionary"
   ],
   "cell_type": "markdown",
   "metadata": {}
  },
  {
   "cell_type": "code",
   "execution_count": 18,
   "metadata": {},
   "outputs": [
    {
     "output_type": "stream",
     "name": "stdout",
     "text": [
      "Subtitle to Translate: The.Pursuit.of.Happyness.2006.WEBRip.Netflix.srt\nTotal of Sentences: 1321\n\nTotal of Words: 6308\n"
     ]
    }
   ],
   "source": [
    "\n",
    "print(\"Subtitle to Translate: {}\".format(subtitle_file))\n",
    "\n",
    "#Loading Subtitles\n",
    "subfile = open(\"./subtitles/\" + subtitle_file,\"r\")\n",
    "sublines = subfile.readlines()\n",
    "\n",
    "dic = {}\n",
    "words = []\n",
    "words_ponct = []\n",
    "\n",
    "for line in sublines:\n",
    "    if line != \"\\n\" and line[0].isalpha():\n",
    "        dic[line] = line.split()\n",
    "        wordmeaning = {} \n",
    "        for word in line.split():\n",
    "            if not word[-1].isalpha():\n",
    "                if word[-1] == \"'\":\n",
    "                    words.append(word)\n",
    "                    wordmeaning[word] = \"meaning \" + word\n",
    "                    dic[line] = wordmeaning\n",
    "                elif word[-1] == \".\" or word[-1] == \",\" or word[-1] == \"!\" or word[-1] == \"?\" or word[-1] == \";\":\n",
    "                    words_ponct.append(word)\n",
    "                    words.append(word[:-1])\n",
    "                    wordmeaning[word] = \"\"\n",
    "                    dic[line] = wordmeaning                    \n",
    "            else:\n",
    "                words.append(word)\n",
    "                wordmeaning[word] = \"\"\n",
    "        dic[line] = wordmeaning                  \n",
    "\n",
    "print(\"Total of Sentences: {}\\n\".format(len(dic)))\n",
    "print(\"Total of Words: {}\".format(len(words)))\n"
   ]
  },
  {
   "source": [
    "### Type here the a sentence or word to find at the subtitle of Suits, if the word or sentence be found, you will see a list with the translations.\n",
    "\n",
    "### Digite aqui uma frase ou palavra para localizar na legenda do filme que você selecionou, se a palavra ou frase for encontrada, você verá uma lista com as traduções."
   ],
   "cell_type": "markdown",
   "metadata": {}
  },
  {
   "cell_type": "code",
   "execution_count": 22,
   "metadata": {},
   "outputs": [
    {
     "output_type": "stream",
     "name": "stdout",
     "text": [
      "Looking for the Word or sentence: happiness\n",
      "\n",
      "Translation: felicidade \n",
      "\n",
      "It's an I in \"happiness.\"\n",
      "\n",
      "Translation: É um eu em \"felicidade\". \n",
      "\n",
      "There's no Y in \"happiness.\" It's an I.\n",
      "\n",
      "Translation: Não há y em \"felicidade\". É um I. \n",
      "\n",
      "supposed to be an I in \"happiness.\"\n",
      "\n",
      "Translation: deveria ser um eu em \"felicidade\". \n",
      "\n",
      "liberty and the pursuit of happiness.\n",
      "\n",
      "Translation: liberdade e a busca da felicidade. \n",
      "\n",
      "That maybe happiness is something\n",
      "\n",
      "Translation: Que talvez a felicidade seja algo \n",
      "\n",
      "where they can't spell \"happiness.\"\n",
      "\n",
      "Translation: onde eles não podem soletrar \"felicidade\". \n",
      "\n",
      "happiness a couple times...\n",
      "\n",
      "Translation: Felicidade algumas vezes ... \n",
      "\n",
      "\n",
      "Total of Sentences with the word \"happiness\": 7\n"
     ]
    }
   ],
   "source": [
    "wordtotranslate = input(\"Type a word or sentence to find at the subtitle (Digite uma palavra ou frase para procurar nas legendas): \")\n",
    "print('Looking for the Word or sentence: {}\\n'.format(wordtotranslate))\n",
    "\n",
    "#Using Google Translator to Translate words and sentences.\n",
    "from google_trans_new import google_translator  \n",
    "translator = google_translator()  \n",
    "translation = translator.translate(wordtotranslate, lang_tgt='pt')\n",
    "\n",
    "print(\"Translation: {}\\n\".format(translation))\n",
    "\n",
    "i = 0\n",
    "count_sentences = 0\n",
    "for i in range(i, len(dic)):\n",
    "     if wordtotranslate in list(dic)[i]:\n",
    "        sentence = list(dic)[i]\n",
    "        print('{}'.format(sentence))\n",
    "        translate_text = translator.translate(sentence,lang_tgt='pt')\n",
    "        print('Translation: {}\\n'.format(translate_text))\n",
    "        count_sentences = count_sentences + 1 \n",
    "\n",
    "\n",
    "print('\\nTotal of Sentences with the word \"{}\": {}'.format(wordtotranslate, count_sentences))"
   ]
  }
 ]
}