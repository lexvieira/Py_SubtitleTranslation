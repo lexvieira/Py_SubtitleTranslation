{
 "metadata": {
  "language_info": {
   "codemirror_mode": {
    "name": "ipython",
    "version": 3
   },
   "file_extension": ".py",
   "mimetype": "text/x-python",
   "name": "python",
   "nbconvert_exporter": "python",
   "pygments_lexer": "ipython3",
   "version": "3.8.5"
  },
  "orig_nbformat": 2,
  "kernelspec": {
   "name": "python3",
   "display_name": "Python 3",
   "language": "python"
  }
 },
 "nbformat": 4,
 "nbformat_minor": 2,
 "cells": [
  {
   "source": [
    "# Load Local Subtitles"
   ],
   "cell_type": "markdown",
   "metadata": {}
  },
  {
   "cell_type": "code",
   "execution_count": 93,
   "metadata": {},
   "outputs": [],
   "source": [
    "subfile = open(\"./subtitles/Suits - 1x01 - Pilot.720p.WEB-DL.en.txt\",\"r\")\n",
    "sublines = subfile.readlines()"
   ]
  },
  {
   "source": [
    "## Read the subtitle and load the sentences in a dictionary"
   ],
   "cell_type": "markdown",
   "metadata": {}
  },
  {
   "cell_type": "code",
   "execution_count": null,
   "metadata": {},
   "outputs": [],
   "source": [
    "dic = {}\n",
    "words = []\n",
    "words_ponct = []\n",
    "\n",
    "for line in sublines:\n",
    "    if line != \"\\n\" and line[0].isalpha():\n",
    "        dic[line] = line.split()\n",
    "        wordmeaning = {} \n",
    "        for word in line.split():\n",
    "            if not word[-1].isalpha():\n",
    "                if word[-1] == \"'\":\n",
    "                    words.append(word)\n",
    "                    wordmeaning[word] = \"meaning \" + word\n",
    "                    dic[line] = wordmeaning\n",
    "                elif word[-1] == \".\" or word[-1] == \",\" or word[-1] == \"!\" or word[-1] == \"?\" or word[-1] == \";\":\n",
    "                    words_ponct.append(word)\n",
    "                    words.append(word[:-1])\n",
    "                    wordmeaning[word] = \"\"\n",
    "                    dic[line] = wordmeaning                    \n",
    "            else:\n",
    "                words.append(word)\n",
    "                wordmeaning[word] = \"\"\n",
    "        dic[line] = wordmeaning                  \n",
    "\n",
    "print(\"Total of Sentences: {}\\n\".format(len(dic)))\n",
    "print(\"Total of Words: {}\\n\".format(len(words)))\n"
   ]
  },
  {
   "source": [
    "## Use a lybrary PyDictionary to get the meaning in English of a specific word "
   ],
   "cell_type": "markdown",
   "metadata": {}
  },
  {
   "cell_type": "code",
   "execution_count": 80,
   "metadata": {
    "tags": []
   },
   "outputs": [
    {
     "output_type": "stream",
     "name": "stdout",
     "text": [
      "I'm paying you millions,\n",
      "\n",
      "{'Verb': ['give money, usually in exchange for goods or services', 'convey, as of a compliment, regards, attention, etc.; bestow', 'cancel or discharge a debt', 'bring in', 'do or give something to somebody in return', 'dedicate', 'be worth it', 'render', 'bear (a cost or penalty', 'make a compensation for', 'discharge or settle'], 'Adjective': ['yielding a fair profit', 'for which money is paid']}\n"
     ]
    }
   ],
   "source": [
    "\n",
    "from PyDictionary import PyDictionary\n",
    "dictionary = PyDictionary()\n",
    "\n",
    "#Using PyDictionary to Translate Words  \n",
    "\n",
    "#Take any sentence from a subtitle from Suits TV Serie\n",
    "returnd = list(dic)[10]\n",
    "print(returnd)\n",
    "\n",
    "# Translating of of the words of the sentence using th PyDictionary\n",
    "result = dictionary.meaning(list(dic[returnd])[1])\n",
    "print(result) \n"
   ]
  },
  {
   "source": [
    "## Example using the *google_translator* Api to translate sentences and words\n",
    "\n",
    "* Obs: There is a bug with the oficial **google_trans**, so for now we are using the *google_trans_new*"
   ],
   "cell_type": "markdown",
   "metadata": {}
  },
  {
   "cell_type": "code",
   "execution_count": 95,
   "metadata": {},
   "outputs": [
    {
     "output_type": "stream",
     "name": "stdout",
     "text": [
      "The sky is blue and I like bananas \n",
      "Hello Chinese \n"
     ]
    }
   ],
   "source": [
    "#Using Google Translator to Translate words and sentences.\n",
    "from google_trans_new import google_translator  \n",
    "translator = google_translator()  \n",
    "translation = translator.translate('Der Himmel ist blau und ich mag Bananen', lang_tgt='en')\n",
    "print(translation)\n",
    "#output: 'The sky is blue and I like bananas'\n",
    "\n",
    "from google_trans_new import google_translator  \n",
    "translator = google_translator()  \n",
    "translate_text = translator.translate('สวัสดีจีน',lang_tgt='en')  \n",
    "print(translate_text)\n",
    "#output: Hello china\n"
   ]
  },
  {
   "source": [
    "# Type here the a sentence or word to find at the subtitle of Suits, if the word or sentence be found, you will see a list with the translations."
   ],
   "cell_type": "markdown",
   "metadata": {}
  },
  {
   "cell_type": "code",
   "execution_count": 91,
   "metadata": {},
   "outputs": [
    {
     "output_type": "stream",
     "name": "stdout",
     "text": [
      "Looking for the Word or sentence: car\n",
      "\n",
      "So you only care about money?\n",
      "\n",
      "Translation: Então você só se importa com dinheiro? \n",
      "\n",
      "to full care\n",
      "\n",
      "Translation: para o cuidado completo \n",
      "\n",
      "Hey. God, you scared the hell\n",
      "\n",
      "Translation: Ei. Deus, você assustou o inferno \n",
      "\n",
      "I don't really care\n",
      "\n",
      "Translation: Eu realmente não me importo \n",
      "\n",
      "show that we care\n",
      "\n",
      "Translation: mostre que nos importamos \n",
      "\n",
      "that you care about more\n",
      "\n",
      "Translation: que você se importa mais com mais \n",
      "\n",
      "in a car accident,\n",
      "\n",
      "Translation: Em um acidente de carro, \n",
      "\n",
      "he's gonna take care of me\n",
      "\n",
      "Translation: ele vai cuidar de mim \n",
      "\n",
      "You don't even care?\n",
      "\n",
      "Translation: Você nem se importa? \n",
      "\n",
      "I'm not about caring.\n",
      "\n",
      "Translation: Eu não sou sobre cuidar. \n",
      "\n",
      "to care about you.\n",
      "\n",
      "Translation: para se importar com você. \n",
      "\n",
      "It sounds like you actually care\n",
      "\n",
      "Translation: Parece que você realmente se importa \n",
      "\n",
      "care about me.\n",
      "\n",
      "Translation: se importa comigo. \n",
      "\n",
      "I care about this woman.\n",
      "\n",
      "Translation: Eu me importo com essa mulher. \n",
      "\n",
      "You say you care\n",
      "\n",
      "Translation: Você diz que você se importa \n",
      "\n",
      "claim that we don't care\n",
      "\n",
      "Translation: alega que não nos importamos \n",
      "\n",
      "doesn't carry any weight\n",
      "\n",
      "Translation: não carrega nenhum peso \n",
      "\n",
      "True, but what does carry\n",
      "\n",
      "Translation: Verdade, mas o que carrega \n",
      "\n",
      "John, I don't care\n",
      "\n",
      "Translation: John, eu não me importo \n",
      "\n",
      "I cared about her.\n",
      "\n",
      "Translation: Eu me importava com ela. \n",
      "\n",
      "You don't care\n",
      "\n",
      "Translation: Você não se importa \n",
      "\n",
      "to care about that anymore,\n",
      "\n",
      "Translation: para se preocupar com isso mais, \n",
      "\n",
      "I was scared, alone,\n",
      "\n",
      "Translation: Eu estava com medo, sozinho, \n",
      "\n",
      "to care of my grandson?\n",
      "\n",
      "Translation: para cuidar do meu neto? \n",
      "\n",
      "because you care.\n",
      "\n",
      "Translation: Porque você se importa. \n",
      "\n",
      "You care about me.\n",
      "\n",
      "Translation: Você se importa comigo. \n",
      "\n",
      "\n",
      "Total of Sentences with the word \"car\": 26\n"
     ]
    }
   ],
   "source": [
    "wordtotranslate = input(\"Type a word or sentence to find at the subtitle (Digite uma palavra ou frase para procurar nas legendas): \")\n",
    "print('Looking for the Word or sentence: {}\\n'.format(wordtotranslate))\n",
    "\n",
    "i = 0\n",
    "count_sentences = 0\n",
    "for i in range(i, len(dic)):\n",
    "     if wordtotranslate in list(dic)[i]:\n",
    "        sentence = list(dic)[i]\n",
    "        print('{}'.format(sentence))\n",
    "        translate_text = translator.translate(sentence,lang_tgt='pt')\n",
    "        print('Translation: {}\\n'.format(translate_text))\n",
    "        count_sentences = count_sentences + 1 \n",
    "\n",
    "\n",
    "print('\\nTotal of Sentences with the word \"{}\": {}'.format(wordtotranslate, count_sentences))"
   ]
  },
  {
   "source": [
    "## Commands to install and uninstall the Libraries"
   ],
   "cell_type": "markdown",
   "metadata": {}
  },
  {
   "cell_type": "code",
   "execution_count": null,
   "metadata": {},
   "outputs": [],
   "source": [
    "# pip uninstall googletrans\n",
    "# pip3 install google_trans_new"
   ]
  },
  {
   "cell_type": "code",
   "execution_count": null,
   "metadata": {},
   "outputs": [],
   "source": []
  }
 ]
}