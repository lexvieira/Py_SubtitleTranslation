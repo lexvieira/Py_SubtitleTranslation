{
 "metadata": {
  "language_info": {
   "codemirror_mode": {
    "name": "ipython",
    "version": 3
   },
   "file_extension": ".py",
   "mimetype": "text/x-python",
   "name": "python",
   "nbconvert_exporter": "python",
   "pygments_lexer": "ipython3",
   "version": "3.8.5"
  },
  "orig_nbformat": 2,
  "kernelspec": {
   "name": "python3",
   "display_name": "Python 3",
   "language": "python"
  }
 },
 "nbformat": 4,
 "nbformat_minor": 2,
 "cells": [
  {
   "source": [
    "## Translation of Subtitles using the Google Translation API and the PyDictionary"
   ],
   "cell_type": "markdown",
   "metadata": {}
  },
  {
   "source": [
    "### First, select in the list the Movie that you want to Translate to Portuguese\n",
    "### Primeiro, selecione na lista o filme que você quer traduzir para o Português"
   ],
   "cell_type": "markdown",
   "metadata": {}
  },
  {
   "cell_type": "code",
   "execution_count": 107,
   "metadata": {},
   "outputs": [],
   "source": [
    "\n",
    "subtitle = 'The Pursuit of the Hapiness' #@param [\"The Pursuit of the Hapiness\", \"John Wich 3\", \"Suits - S1 - E1\"]"
   ]
  },
  {
   "cell_type": "code",
   "execution_count": 118,
   "metadata": {},
   "outputs": [
    {
     "output_type": "stream",
     "name": "stdout",
     "text": [
      "README.md     base64.py  dic.py     playme.ipynb  pyDictionary.ipynb  test.py\n\u001b[0m\u001b[01;34m__pycache__\u001b[0m/  csp.py     pandas.py  plot.py       \u001b[01;34msubtitles\u001b[0m/\n"
     ]
    }
   ],
   "source": []
  },
  {
   "cell_type": "code",
   "execution_count": 120,
   "metadata": {},
   "outputs": [
    {
     "output_type": "stream",
     "name": "stdout",
     "text": [
      "The.Pursuit.of.Happyness.2006.srt\n"
     ]
    }
   ],
   "source": [
    "if subtitle == \"The Pursuit of the Hapiness\":\n",
    "    subtitle = \"The.Pursuit.of.Happyness.2006.srt\" \n",
    "elif subtitle == \"John Wich 3\":\n",
    "    subtitle = \"John.Wick.Chapter.3.srt\" \n",
    "elif subtitle == \"Suits - S1 - E1\":\n",
    "    subtitle = \"Suits - 1x01.txt\"     \n",
    "\n",
    "print(subtitle)\n",
    "\n",
    "subfile = open(\"./subtitles/\" + subtitle,\"r\")\n",
    "sublines = subfile.readlines()"
   ]
  },
  {
   "source": [
    "## Read the subtitle and load the sentences in a dictionary"
   ],
   "cell_type": "markdown",
   "metadata": {}
  },
  {
   "cell_type": "code",
   "execution_count": 121,
   "metadata": {},
   "outputs": [
    {
     "output_type": "stream",
     "name": "stdout",
     "text": [
      "Total of Sentences: 1321\n\nTotal of Words: 6308\n\n"
     ]
    }
   ],
   "source": [
    "dic = {}\n",
    "words = []\n",
    "words_ponct = []\n",
    "\n",
    "for line in sublines:\n",
    "    if line != \"\\n\" and line[0].isalpha():\n",
    "        dic[line] = line.split()\n",
    "        wordmeaning = {} \n",
    "        for word in line.split():\n",
    "            if not word[-1].isalpha():\n",
    "                if word[-1] == \"'\":\n",
    "                    words.append(word)\n",
    "                    wordmeaning[word] = \"meaning \" + word\n",
    "                    dic[line] = wordmeaning\n",
    "                elif word[-1] == \".\" or word[-1] == \",\" or word[-1] == \"!\" or word[-1] == \"?\" or word[-1] == \";\":\n",
    "                    words_ponct.append(word)\n",
    "                    words.append(word[:-1])\n",
    "                    wordmeaning[word] = \"\"\n",
    "                    dic[line] = wordmeaning                    \n",
    "            else:\n",
    "                words.append(word)\n",
    "                wordmeaning[word] = \"\"\n",
    "        dic[line] = wordmeaning                  \n",
    "\n",
    "print(\"Total of Sentences: {}\\n\".format(len(dic)))\n",
    "print(\"Total of Words: {}\".format(len(words)))\n"
   ]
  },
  {
   "source": [
    "### Type here the a sentence or word to find at the subtitle of Suits, if the word or sentence be found, you will see a list with the translations.\n",
    "\n",
    "### Digite aqui uma frase ou palavra para localizar na legenda do filme que você selecionou, se a palavra ou frase for encontrada, você verá uma lista com as traduções."
   ],
   "cell_type": "markdown",
   "metadata": {}
  },
  {
   "cell_type": "code",
   "execution_count": 123,
   "metadata": {},
   "outputs": [
    {
     "output_type": "stream",
     "name": "stdout",
     "text": [
      "Looking for the Word or sentence: happiness\n",
      "\n",
      "It's an I in \"happiness.\"\n",
      "\n",
      "Translation: É um eu em \"felicidade\". \n",
      "\n",
      "There's no Y in \"happiness.\" It's an I.\n",
      "\n",
      "Translation: Não há y em \"felicidade\". É um I. \n",
      "\n",
      "supposed to be an I in \"happiness.\"\n",
      "\n",
      "Translation: deveria ser um eu em \"felicidade\". \n",
      "\n",
      "liberty and the pursuit of happiness.\n",
      "\n",
      "Translation: liberdade e a busca da felicidade. \n",
      "\n",
      "That maybe happiness is something\n",
      "\n",
      "Translation: Que talvez a felicidade seja algo \n",
      "\n",
      "where they can't spell \"happiness.\"\n",
      "\n",
      "Translation: onde eles não podem soletrar \"felicidade\". \n",
      "\n",
      "happiness a couple times...\n",
      "\n",
      "Translation: Felicidade algumas vezes ... \n",
      "\n",
      "\n",
      "Total of Sentences with the word \"happiness\": 7\n"
     ]
    }
   ],
   "source": [
    "wordtotranslate = input(\"Type a word or sentence to find at the subtitle (Digite uma palavra ou frase para procurar nas legendas): \")\n",
    "print('Looking for the Word or sentence: {}\\n'.format(wordtotranslate))\n",
    "\n",
    "i = 0\n",
    "count_sentences = 0\n",
    "for i in range(i, len(dic)):\n",
    "     if wordtotranslate in list(dic)[i]:\n",
    "        sentence = list(dic)[i]\n",
    "        print('{}'.format(sentence))\n",
    "        translate_text = translator.translate(sentence,lang_tgt='pt')\n",
    "        print('Translation: {}\\n'.format(translate_text))\n",
    "        count_sentences = count_sentences + 1 \n",
    "\n",
    "\n",
    "print('\\nTotal of Sentences with the word \"{}\": {}'.format(wordtotranslate, count_sentences))"
   ]
  }
 ]
}