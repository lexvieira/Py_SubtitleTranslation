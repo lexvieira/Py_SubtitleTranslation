{
 "metadata": {
  "language_info": {
   "codemirror_mode": {
    "name": "ipython",
    "version": 3
   },
   "file_extension": ".py",
   "mimetype": "text/x-python",
   "name": "python",
   "nbconvert_exporter": "python",
   "pygments_lexer": "ipython3",
   "version": "3.8.5"
  },
  "orig_nbformat": 2,
  "kernelspec": {
   "name": "python3",
   "display_name": "Python 3",
   "language": "python"
  }
 },
 "nbformat": 4,
 "nbformat_minor": 2,
 "cells": [
  {
   "cell_type": "code",
   "execution_count": 1,
   "metadata": {},
   "outputs": [
    {
     "output_type": "stream",
     "name": "stdout",
     "text": [
      "Dictionary\n",
      "{'Noun': ['a concave cut into a surface or edge (as in a coastline', 'the formation of small pits in a surface as a consequence of corrosion', 'the space left between the margin and the start of an indented line', 'the act of cutting into an edge with toothlike notches or angular incisions']}\n"
     ]
    }
   ],
   "source": [
    "from bs4 import BeautifulSoup\n",
    "from PyDictionary import PyDictionary\n",
    "\n",
    "print(\"Dictionary\")\n",
    "dictionary = PyDictionary()\n",
    "\n",
    "result = dictionary.meaning(\"indentation\")\n",
    "print(result)\n",
    "\n",
    "# PyDictionary\n"
   ]
  },
  {
   "source": [
    "## Use a lybrary PyDictionary to get the meaning in English of a specific word "
   ],
   "cell_type": "markdown",
   "metadata": {}
  },
  {
   "cell_type": "code",
   "execution_count": 3,
   "metadata": {},
   "outputs": [
    {
     "output_type": "stream",
     "name": "stdout",
     "text": [
      "{'Noun': ['a motor vehicle with four wheels; usually propelled by an internal combustion engine', 'a wheeled vehicle adapted to the rails of railroad', 'the compartment that is suspended from an airship and that carries personnel and the cargo and the power plant', 'where passengers ride up and down', 'a conveyance for passengers or freight on a cable railway']}\n"
     ]
    }
   ],
   "source": [
    "from PyDictionary import PyDictionary\n",
    "dictionary = PyDictionary()\n",
    "\n",
    "#Using PyDictionary to Translate Words  \n",
    "\n",
    "dic = [\"House\", \"Car\", \"missions\", \"happiness\"]\n",
    "\n",
    "# Translating of of the words of the sentence using th PyDictionary\n",
    "result = dictionary.meaning(dic[1])\n",
    "print(result) "
   ]
  }
 ]
}