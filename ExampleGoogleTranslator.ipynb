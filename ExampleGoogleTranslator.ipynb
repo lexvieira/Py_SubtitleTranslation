{
 "metadata": {
  "language_info": {
   "codemirror_mode": {
    "name": "ipython",
    "version": 3
   },
   "file_extension": ".py",
   "mimetype": "text/x-python",
   "name": "python",
   "nbconvert_exporter": "python",
   "pygments_lexer": "ipython3",
   "version": "3.8.5"
  },
  "orig_nbformat": 2,
  "kernelspec": {
   "name": "python3",
   "display_name": "Python 3",
   "language": "python"
  }
 },
 "nbformat": 4,
 "nbformat_minor": 2,
 "cells": [
  {
   "source": [
    "## Example using the *google_translator* Api to translate sentences and words\n",
    "\n",
    "* Obs: There is a bug with the oficial **google_trans**, so for now we are using the *google_trans_new*"
   ],
   "cell_type": "markdown",
   "metadata": {}
  },
  {
   "cell_type": "code",
   "execution_count": 1,
   "metadata": {},
   "outputs": [
    {
     "output_type": "stream",
     "name": "stdout",
     "text": [
      "The sky is blue and I like bananas \nHello Chinese \n"
     ]
    }
   ],
   "source": [
    "#Using Google Translator to Translate words and sentences.\n",
    "from google_trans_new import google_translator  \n",
    "translator = google_translator()  \n",
    "translation = translator.translate('Der Himmel ist blau und ich mag Bananen', lang_tgt='en')\n",
    "print(translation)\n",
    "#output: 'The sky is blue and I like bananas'\n",
    "\n",
    "from google_trans_new import google_translator  \n",
    "translator = google_translator()  \n",
    "translate_text = translator.translate('สวัสดีจีน',lang_tgt='en')  \n",
    "print(translate_text)\n",
    "#output: Hello china\n"
   ]
  }
 ]
}